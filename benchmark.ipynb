{
 "cells": [
  {
   "cell_type": "markdown",
   "id": "be3076dd-1890-4a58-ac6a-b35515ec84ee",
   "metadata": {},
   "source": [
    "# CS328 Lecture 5: Processor Architecture & Efficiency\n",
    "\n",
    "## Benchmark problem\n",
    "\n",
    "This file compares 6 different ways of computing the sum of positive elements in an array. \n",
    "Before you can execute the cells in this notebook, you must install:\n",
    "\n",
    "1. **CMake**\n",
    "   \n",
    "   - On Linux, install it with the package manager of your distribution (apt,\n",
    "     yum, ..). On Ubuntu/Debian, run \"sudo apt install cmake\".\n",
    "\n",
    "   - On macOS, install it through Homebrew (https://brew.sh)\n",
    "\n",
    "   - On Windows, install it via the official installer (http://cmake.org)\n",
    "\n",
    "2. **A C++ compiler** (XCode on macOS, GCC/Clang on Linux, Visual Studio on Windows)\n",
    "\n",
    "3. **nanobind**: To install it, run \"python -m pip install nanobind\" on the command line\n",
    "\n",
    "Following this, run ``cmake`` or ``cmake-gui`` to generate a build file that you can compile with\n",
    "your C++ compiler.\n",
    "\n",
    "General information on compiling C++ projects via CMake on various platforms is\n",
    "available [here](https://preshing.com/20170511/how-to-build-a-cmake-based-project/)."
   ]
  },
  {
   "cell_type": "code",
   "execution_count": null,
   "id": "0b7f2366-e9a1-4758-a473-554fd98f0a20",
   "metadata": {
    "tags": []
   },
   "outputs": [],
   "source": [
    "import numpy as np"
   ]
  },
  {
   "cell_type": "code",
   "execution_count": null,
   "id": "2ce4e2a5-6c4f-4b2b-9216-f57983a46514",
   "metadata": {
    "tags": []
   },
   "outputs": [],
   "source": [
    "# Generate a huge input array of random numbers (4 gigabytes)\n",
    "\n",
    "n = 1024*1024*1024\n",
    "x = np.float32(np.random.randn(n))"
   ]
  },
  {
   "cell_type": "code",
   "execution_count": null,
   "id": "62630cde-ea8f-40bc-9c74-2b1073acde3f",
   "metadata": {
    "tags": []
   },
   "outputs": [],
   "source": [
    "# Python implementation\n",
    "def psum(x):\n",
    "    r = 0\n",
    "    for i in range(len(x)):\n",
    "        if x[i] > 0:\n",
    "            r += x[i]\n",
    "    return r"
   ]
  },
  {
   "cell_type": "code",
   "execution_count": null,
   "id": "95147005-8f0c-4e97-8142-9793227729f9",
   "metadata": {
    "tags": []
   },
   "outputs": [],
   "source": [
    "# Let's see Python's internal representation of this function\n",
    "import dis\n",
    "dis.dis(psum)"
   ]
  },
  {
   "cell_type": "code",
   "execution_count": null,
   "id": "ee1f9d54-94ed-4273-add8-47a5caccadeb",
   "metadata": {},
   "outputs": [],
   "source": [
    "# Warning: this cell takes a long time!\n",
    "%time psum(x);"
   ]
  },
  {
   "cell_type": "code",
   "execution_count": null,
   "id": "01a640de-3f1a-4967-a880-0465da683f78",
   "metadata": {},
   "outputs": [],
   "source": [
    "# NumPy implementation\n",
    "%time np.sum(np.maximum(x, np.float32(0)));"
   ]
  },
  {
   "cell_type": "code",
   "execution_count": null,
   "id": "1ef326a6-f58f-41bb-a900-efe0acb8f1fb",
   "metadata": {},
   "outputs": [],
   "source": [
    "# Now, let's import our Python extension library!\n",
    "import psum as p"
   ]
  },
  {
   "cell_type": "code",
   "execution_count": null,
   "id": "bc927a9c-8268-4607-80b3-e9d533a2255c",
   "metadata": {
    "tags": []
   },
   "outputs": [],
   "source": [
    "# Extremely naïve C++ implementation (scalar)\n",
    "%time p.psum_0(x);"
   ]
  },
  {
   "cell_type": "code",
   "execution_count": null,
   "id": "01d7db1d-e8b8-44e7-a268-4c3eec24937f",
   "metadata": {
    "tags": []
   },
   "outputs": [],
   "source": [
    "# Somewhat naïve C++ implementation (scalar)\n",
    "%time p.psum_1(x);"
   ]
  },
  {
   "cell_type": "code",
   "execution_count": null,
   "id": "9a85e789-5ebc-4da6-98ef-f4b416cbc930",
   "metadata": {
    "tags": []
   },
   "outputs": [],
   "source": [
    "# Vectorized implementation (OK)\n",
    "%time p.psum_2(x);"
   ]
  },
  {
   "cell_type": "code",
   "execution_count": null,
   "id": "e2cb0735-d966-408b-a8fc-54957df40a20",
   "metadata": {
    "tags": []
   },
   "outputs": [],
   "source": [
    "# Vectorized implementation (Better)\n",
    "%time p.psum_3(x);"
   ]
  }
 ],
 "metadata": {
  "kernelspec": {
   "display_name": "Python 3 (ipykernel)",
   "language": "python",
   "name": "python3"
  },
  "language_info": {
   "codemirror_mode": {
    "name": "ipython",
    "version": 3
   },
   "file_extension": ".py",
   "mimetype": "text/x-python",
   "name": "python",
   "nbconvert_exporter": "python",
   "pygments_lexer": "ipython3",
   "version": "3.11.5"
  }
 },
 "nbformat": 4,
 "nbformat_minor": 5
}
